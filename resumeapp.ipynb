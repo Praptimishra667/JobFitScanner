{
  "nbformat": 4,
  "nbformat_minor": 0,
  "metadata": {
    "colab": {
      "provenance": []
    },
    "kernelspec": {
      "name": "python3",
      "display_name": "Python 3"
    },
    "language_info": {
      "name": "python"
    }
  },
  "cells": [
    {
      "cell_type": "code",
      "execution_count": 15,
      "metadata": {
        "colab": {
          "base_uri": "https://localhost:8080/"
        },
        "id": "lIb15lQa9g82",
        "outputId": "20809f25-bf01-4dc4-9135-185c0b2f2c81"
      },
      "outputs": [
        {
          "output_type": "stream",
          "name": "stdout",
          "text": [
            "Collecting en-core-web-sm==3.8.0\n",
            "  Downloading https://github.com/explosion/spacy-models/releases/download/en_core_web_sm-3.8.0/en_core_web_sm-3.8.0-py3-none-any.whl (12.8 MB)\n",
            "\u001b[2K     \u001b[90m━━━━━━━━━━━━━━━━━━━━━━━━━━━━━━━━━━━━━━━━\u001b[0m \u001b[32m12.8/12.8 MB\u001b[0m \u001b[31m26.2 MB/s\u001b[0m eta \u001b[36m0:00:00\u001b[0m\n",
            "\u001b[?25h\u001b[38;5;2m✔ Download and installation successful\u001b[0m\n",
            "You can now load the package via spacy.load('en_core_web_sm')\n",
            "\u001b[38;5;3m⚠ Restart to reload dependencies\u001b[0m\n",
            "If you are in a Jupyter or Colab notebook, you may need to restart Python in\n",
            "order to load all the package's dependencies. You can do this by selecting the\n",
            "'Restart kernel' or 'Restart runtime' option.\n"
          ]
        }
      ],
      "source": [
        "!pip install gradio scikit-learn spacy --quiet\n",
        "!python -m spacy download en_core_web_sm\n",
        "\n"
      ]
    },
    {
      "cell_type": "code",
      "source": [
        "pip install pymupdf\n"
      ],
      "metadata": {
        "colab": {
          "base_uri": "https://localhost:8080/"
        },
        "id": "YzaSKoJk9x3y",
        "outputId": "59d9c575-c886-4104-892e-77c4ddac7643"
      },
      "execution_count": 16,
      "outputs": [
        {
          "output_type": "stream",
          "name": "stdout",
          "text": [
            "Requirement already satisfied: pymupdf in /usr/local/lib/python3.11/dist-packages (1.26.1)\n"
          ]
        }
      ]
    },
    {
      "cell_type": "code",
      "source": [
        "import gradio as gr\n",
        "import spacy\n",
        "import fitz  # PyMuPDF\n",
        "from sklearn.feature_extraction.text import TfidfVectorizer\n",
        "from sklearn.metrics.pairwise import cosine_similarity\n",
        "\n",
        "# Load spaCy model\n",
        "nlp = spacy.load(\"en_core_web_sm\")\n",
        "\n",
        "# Text Preprocessing\n",
        "def preprocess(text):\n",
        "    doc = nlp(text)\n",
        "    tokens = [token.lemma_.lower() for token in doc if not token.is_stop and not token.is_punct]\n",
        "    return \" \".join(tokens)\n",
        "\n",
        "# TF-IDF Similarity\n",
        "def calculate_similarity(resume_text, jd_text):\n",
        "    vectorizer = TfidfVectorizer()\n",
        "    tfidf_matrix = vectorizer.fit_transform([resume_text, jd_text])\n",
        "    return cosine_similarity(tfidf_matrix[0:1], tfidf_matrix[1:2])[0][0]\n",
        "\n",
        "# Extract Text from .pdf or .txt\n",
        "def extract_text(file_bytes, mime_type):\n",
        "    if mime_type == \"application/pdf\":\n",
        "        doc = fitz.open(stream=file_bytes, filetype=\"pdf\")\n",
        "        return \"\".join([page.get_text() for page in doc])\n",
        "    elif mime_type == \"text/plain\":\n",
        "        return file_bytes.decode(\"utf-8\", errors=\"ignore\")\n",
        "    else:\n",
        "        raise ValueError(\"⚠️ Unsupported file format. Upload only .pdf or .txt\")\n",
        "\n",
        "# Simulated Email Sending Function\n",
        "def send_email(recipient_email, score, feedback, decision, cgpa):\n",
        "    message = f\"\"\"\n",
        "    Subject: Resume Match Results\n",
        "\n",
        "    📈 Similarity Score: {score}\n",
        "    🎓 CGPA: {cgpa}\n",
        "    📋 Decision: {decision}\n",
        "\n",
        "    Feedback:\n",
        "    {feedback}\n",
        "\n",
        "    Regards,\n",
        "    AI Resume Matcher Bot\n",
        "    \"\"\"\n",
        "    print(f\"[SIMULATED EMAIL TO: {recipient_email}]\\n{message}\")\n",
        "    return f\"📨 Results simulated to be sent to {recipient_email}\"\n",
        "\n",
        "# Analysis Logic\n",
        "def analyze_similarity(resume_file, jd_file, email, cgpa):\n",
        "    if resume_file is None or jd_file is None:\n",
        "        return 0.0, \"❌ Please upload both resume and job description.\", \"\", \"\", \"\", \"\", \"\"\n",
        "\n",
        "    try:\n",
        "        resume_mime = \"application/pdf\" if resume_file[:4] == b'%PDF' else \"text/plain\"\n",
        "        jd_mime = \"application/pdf\" if jd_file[:4] == b'%PDF' else \"text/plain\"\n",
        "\n",
        "        resume_text = extract_text(resume_file, resume_mime)\n",
        "        jd_text = extract_text(jd_file, jd_mime)\n",
        "    except Exception as e:\n",
        "        return 0.0, f\"❌ Error: {str(e)}\", \"\", \"\", \"\", \"\", \"\"\n",
        "\n",
        "    if not resume_text.strip() or not jd_text.strip():\n",
        "        return 0.0, \"❌ One or both files are empty or invalid.\", \"\", \"\", \"\", \"\", \"\"\n",
        "\n",
        "    resume_clean = preprocess(resume_text)\n",
        "    jd_clean = preprocess(jd_text)\n",
        "    score = calculate_similarity(resume_clean, jd_clean)\n",
        "    cgpa_float = float(cgpa) if cgpa else 0.0\n",
        "\n",
        "    # Decision & Feedback Logic\n",
        "    if score < 0.3:\n",
        "        feedback = \"🔍 **Low Match**\\n\\nYour resume doesn't align well with the job description. Consider revising your content.\"\n",
        "        decision = \"❌ Not shortlisted. Needs major improvement.\"\n",
        "    elif score < 0.7:\n",
        "        feedback = \"⚠️ **Moderate Match**\\n\\nYour resume shows partial alignment. Try integrating more specific job-relevant skills.\"\n",
        "        if cgpa_float < 6.5:\n",
        "            decision = \"❌ Not shortlisted due to CGPA below 6.5.\"\n",
        "        else:\n",
        "            decision = \"🟡 Moderate chance. Tailoring needed.\"\n",
        "    else:\n",
        "        feedback = \"✅ **High Match**\\n\\nYour resume aligns well with the JD. Good job highlighting relevant skills!\"\n",
        "        if cgpa_float < 6.5:\n",
        "            decision = \"❌ Not shortlisted due to CGPA below 6.5.\"\n",
        "        elif cgpa_float >= 7.5:\n",
        "            decision = \"🎉 Shortlisted! Excellent resume and academic record.\"\n",
        "        else:\n",
        "            decision = \"✅ Shortlisted, but consider working on academic consistency.\"\n",
        "\n",
        "    email_status = send_email(email, f\"{score:.2f}\", feedback, decision, cgpa) if email else \"📭 Email not provided.\"\n",
        "\n",
        "    return round(score, 2), feedback, decision, cgpa, resume_text.strip(), jd_text.strip(), email_status\n",
        "\n",
        "# Custom Theme\n",
        "custom_theme = gr.themes.Base(\n",
        "    primary_hue=\"rose\",\n",
        "    neutral_hue=\"slate\",\n",
        "    font=[gr.themes.GoogleFont(\"Poppins\"), \"ui-sans-serif\"],\n",
        "    radius_size=\"md\",\n",
        "    spacing_size=\"sm\",\n",
        "    text_size=\"md\"\n",
        ").set(\n",
        "    body_background_fill=\"#fef9f9\",\n",
        "    body_text_color=\"#333\",\n",
        "    block_title_text_color=\"#d6336c\",\n",
        "    block_border_color=\"#f3c2d2\"\n",
        ")\n",
        "\n",
        "# Gradio Interface\n",
        "with gr.Blocks(theme=custom_theme) as iface:\n",
        "    gr.Markdown(\"## ✨ AI Resume & Job Description Matcher\")\n",
        "    gr.Markdown(\"📂 Upload your **Resume** and **Job Description** in `.pdf` or `.txt` format.\\n\\n\"\n",
        "                \"✉️ Enter your email to receive results.\\n🎓 Add your CGPA for a better evaluation.\\n\\n\"\n",
        "                \"🚀 Powered by TF-IDF + spaCy NLP.\")\n",
        "\n",
        "    with gr.Row():\n",
        "        resume_input = gr.File(label=\"📄 Upload Resume\", type=\"binary\", file_types=[\".pdf\", \".txt\"])\n",
        "        jd_input = gr.File(label=\"📋 Upload Job Description\", type=\"binary\", file_types=[\".pdf\", \".txt\"])\n",
        "\n",
        "    with gr.Row():\n",
        "        email_input = gr.Textbox(label=\"✉️ Email Address\", placeholder=\"example@mail.com\")\n",
        "        cgpa_input = gr.Textbox(label=\"🎓 CGPA\", placeholder=\"e.g., 8.23\")\n",
        "\n",
        "    analyze_btn = gr.Button(\"🔍 Match Resume\")\n",
        "\n",
        "    gr.Markdown(\"### 📊 Results\")\n",
        "\n",
        "    with gr.Row():\n",
        "        score_slider = gr.Slider(label=\"📈 Similarity Score\", minimum=0, maximum=1, step=0.01, interactive=False)\n",
        "        decision_output = gr.Textbox(label=\"📋 Final Decision\", interactive=False)\n",
        "\n",
        "    with gr.Row():\n",
        "        cgpa_output = gr.Textbox(label=\"🎓 Entered CGPA\", interactive=False)\n",
        "        email_status_output = gr.Textbox(label=\"📨 Email Status\", interactive=False)\n",
        "\n",
        "    feedback_output = gr.Markdown()\n",
        "\n",
        "    with gr.Row():\n",
        "        resume_output = gr.Textbox(label=\"📝 Extracted Resume Text\", lines=10, interactive=False)\n",
        "        jd_output = gr.Textbox(label=\"📌 Extracted JD Text\", lines=10, interactive=False)\n",
        "\n",
        "    analyze_btn.click(\n",
        "        fn=analyze_similarity,\n",
        "        inputs=[resume_input, jd_input, email_input, cgpa_input],\n",
        "        outputs=[score_slider, feedback_output, decision_output, cgpa_output, resume_output, jd_output, email_status_output]\n",
        "    )\n",
        "\n",
        "iface.launch(share=True)\n"
      ],
      "metadata": {
        "colab": {
          "base_uri": "https://localhost:8080/",
          "height": 610
        },
        "id": "gweI7LejB_MU",
        "outputId": "dfa9de3d-e1e7-4376-f3dd-47bedf73ed66"
      },
      "execution_count": 18,
      "outputs": [
        {
          "output_type": "stream",
          "name": "stdout",
          "text": [
            "Colab notebook detected. To show errors in colab notebook, set debug=True in launch()\n",
            "* Running on public URL: https://33165d0c127e1e0734.gradio.live\n",
            "\n",
            "This share link expires in 1 week. For free permanent hosting and GPU upgrades, run `gradio deploy` from the terminal in the working directory to deploy to Hugging Face Spaces (https://huggingface.co/spaces)\n"
          ]
        },
        {
          "output_type": "display_data",
          "data": {
            "text/plain": [
              "<IPython.core.display.HTML object>"
            ],
            "text/html": [
              "<div><iframe src=\"https://33165d0c127e1e0734.gradio.live\" width=\"100%\" height=\"500\" allow=\"autoplay; camera; microphone; clipboard-read; clipboard-write;\" frameborder=\"0\" allowfullscreen></iframe></div>"
            ]
          },
          "metadata": {}
        },
        {
          "output_type": "execute_result",
          "data": {
            "text/plain": []
          },
          "metadata": {},
          "execution_count": 18
        }
      ]
    }
  ]
}